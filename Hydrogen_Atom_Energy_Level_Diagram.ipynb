{
  "nbformat": 4,
  "nbformat_minor": 5,
  "metadata": {
    "kernelspec": {
      "display_name": "Python 3 (ipykernel)",
      "language": "python",
      "name": "python3"
    },
    "language_info": {
      "codemirror_mode": {
        "name": "ipython",
        "version": 3
      },
      "file_extension": ".py",
      "mimetype": "text/x-python",
      "name": "python",
      "nbconvert_exporter": "python",
      "pygments_lexer": "ipython3",
      "version": "3.9.5"
    },
    "colab": {
      "name": "Hydrogen_Atom_Energy_Level_Diagram_Chem11.ipynb",
      "provenance": [],
      "collapsed_sections": []
    }
  },
  "cells": [
    {
      "cell_type": "markdown",
      "metadata": {
        "id": "cMCzF-8Dccqy"
      },
      "source": [
        "The purpose of this exercise is to visualize the energy diagram for the different wavelengths of light emitted in a Hydrogen Atomic Spectrum.\n",
        "\n",
        "### Written by Elliott Anderson (Chemistry '22), Dr. Hoda Mirafzal, and Dr. Grace Stokes (Santa Clara University)"
      ],
      "id": "cMCzF-8Dccqy"
    },
    {
      "cell_type": "markdown",
      "metadata": {
        "id": "UuXYOGWfQf50"
      },
      "source": [
        "This exercise has two parts:\n",
        "\n",
        "Part 1: Plot an Energy Level Diagram for the Hydrogen Atom.\n",
        "\n",
        "Part 2: Calculate the energy of light emitted or absorbed when an electron transitions between two different energy levels. Convert the energy in Joules to frequency (in Hz) and wavelength (in nanometers). Compare different transitions both graphically and mathematically."
      ],
      "id": "UuXYOGWfQf50"
    },
    {
      "cell_type": "markdown",
      "metadata": {
        "id": "mmbmB4HEdDp_"
      },
      "source": [
        "# Part 1: Hydrogen Energy Levels\n",
        "In the cell below, we will plug constants from the table below into Equation 1 to calculate energy in Joules for two different integer values of n.\n",
        "\n",
        "$$E_{n} = -\\frac{m_e e^4}{8\\epsilon_0^2h^2n^2}\\qquad(1)$$\n",
        "\n",
        "| Symbol | Quantity | Value in SI units\n",
        "|---|---|---|\n",
        "| $m_e$ | electron mass| $9.109\\times 10^{-31}$ kg |\n",
        "| $e$ | electron charge| $1.602\\times 10^{-19}$ C |\n",
        "| $\\epsilon_0$ | vacuum permittivity| $8.854\\times 10^{-12}$ C$^2$/J m |\n",
        "| $h$ | Planck's constant| $6.626\\times 10^{-34}$ J s |. "
      ],
      "id": "mmbmB4HEdDp_"
    },
    {
      "cell_type": "code",
      "metadata": {
        "id": "Uwq1_yQSd8e-"
      },
      "source": [
        "# This first cell imports various libraries and packages that we will need.\n",
        "# Execute this cell with shift-enter or by left-clicking the \"play button\" to the left.\n",
        "import numpy\n",
        "import math\n",
        "import os\n",
        "import matplotlib.pyplot as plt\n",
        "import pandas as pd\n",
        "\n",
        "# Define the colors that will be used in the energy diagram\n",
        "colors = ['#e6194b', '#3cb44b', '#ffe119', '#4363d8', '#f58231', \n",
        "          '#911eb4', '#46f0f0', '#f032e6', '#bcf60c', '#fabebe', \n",
        "          '#008080', '#e6beff', '#9a6324', '#fffac8', '#800000', \n",
        "          '#aaffc3', '#808000', '#ffd8b1', '#000075', '#808080', \n",
        "          '#ffffff', '#000000'] #A list of colors that the list pull upon, needs to have >= entries than the value of n_max\n",
        "\n",
        "# Define constants that we will be using\n",
        "m_e = 9.1093837015* 10 ** -31 # kg\n",
        "e = 1.602176634* 10 ** -19 # C\n",
        "vp = 8.854* 10 ** -12 # C^2 / Jm\n",
        "h = 6.62607015 * 10 ** -34 # J*s\n",
        "\n",
        "# Let's plot the lowest 10 energy levels for the H atom\n",
        "n_min = 1 #we call this the ground state energy\n",
        "n_max = 10 #This is the maximum quantum number, which can be changed\n",
        "n = numpy.linspace(n_min, n_max, n_max-n_min+1)\n",
        "\n",
        "# Equation 1\n",
        "numerator = m_e*e**4\n",
        "denominator = 8*(vp**2)*(h**2)*(n**2)\n",
        "e_lv = -numerator/denominator\n",
        "\n",
        "# Calculate Energies for the lowest 10 energy levels of the H atom in Joules\n",
        "inc = 0\n",
        "for inc, big_int in enumerate(reversed(e_lv)):\n",
        "    print('for n=',n_max-inc, ', Energy = ', big_int, 'Joules')"
      ],
      "id": "Uwq1_yQSd8e-",
      "execution_count": null,
      "outputs": []
    },
    {
      "cell_type": "markdown",
      "metadata": {
        "id": "cAGif4IdmZt-"
      },
      "source": [
        "To better visualize which value is the largest and which one is smallest, plot the energy diagram using the code in the cell below."
      ],
      "id": "cAGif4IdmZt-"
    },
    {
      "cell_type": "code",
      "metadata": {
        "id": "mjI2WL8Yikpf"
      },
      "source": [
        "# Plot the Energy Diagram\n",
        "fig = plt.figure()\n",
        "inc = 0\n",
        "for inc, big_int in enumerate(reversed(e_lv)):\n",
        "    x_big = range(0,n_max)\n",
        "    y_big = [big_int]*n_max\n",
        "    plt.plot(x_big,y_big, color = colors[inc+1])\n",
        "    inc+=1\n",
        "    plt.ylabel('Energy (Joules)') \n",
        "    plt.xticks([])\n",
        "    plt.title(\"Hydrogen Energy Levels\")\n",
        "\n",
        "#Generates a legend for the plot\n",
        "ax = plt.plot(x_big, y_big)\n",
        "plt.xlim(0, 9) #change this value to n_max-1 if you change n_max\n",
        "plt.ylim(-2.5e-18, 1e-20)\n",
        "plt.legend(range(n_max, 0, -1), loc=\"center right\", bbox_to_anchor = (1.2,.5), title = \"n=\")"
      ],
      "id": "mjI2WL8Yikpf",
      "execution_count": null,
      "outputs": []
    },
    {
      "cell_type": "markdown",
      "metadata": {
        "id": "4ELQ500Fn5Rq"
      },
      "source": [
        "# Part 2: Comparison of Transitions (Mathematically and Graphically)\n",
        "a. Suppose an electron undergoes a transition between an initial energy level (n_init_a) = 3 to a final energy level (n_final_a) = 1. Calculate the energy (in Joules) of light emitted or absorbed for this transition. Convert this value to frequency (in Hz) and wavelength (in nanometers).\n",
        "<p>\n",
        "b. Now suppose an electron undergoes a transition between an initial energy level (n_init_b) = 3 to a final energy level (n_final_b) = 1. Calculate the energy (in Joules) of light emitted or absorbed for this transition. Convert this value to frequency (in Hz) and wavelength (in nanometers).\n",
        "<p>\n",
        "c. Which of these two transitions (3 --> 2 or 3 --> 1) could you see with the naked eye? Why?\n",
        "<p>\n",
        "d. Which of these two transitions (3 --> 2 or 3 --> 1) is a more energetic (higher energy) transition?\n",
        "<p>\n",
        "e. Based on your answers above, fill in the statement:\n",
        "The ______ (shorter/longer) the wavelength of a photon, the more energetic that photon is.\n",
        "<p>\n",
        "f. Plot both transitions (3 --> 2 and 3 --> 1) on an energy diagram using Python.\n",
        "<p>\n",
        "g. Use Python to compare the energies of transitions from 3 --> 2 versus 2 --> 1. How do the frequencies and wavelengths compare? Visualize the differences on the energy diagram.\n",
        "<p>\n",
        "h. The transitions described in parts a through g involve an electron that starts at a higher energy level (n_initial > n_final) and relaxes to a lower energy level. A <b>negative</b> value for delta_E corresponds to the <b>emission</b> of a photon of light.\n",
        "<p> An electron can also make a transition from a lower energy level to a higher energy level (n_initial < n_final) if a photon of light of sufficient energy is absorbed. Try changing the initial and final n values in the cell below to compare (2 --> 3 and 1 --> 2). What is the difference in the SIGN for the change in energy? A <b>positive</b> value for delta_E is associated with <b>excitation</b> of the electron."
      ],
      "id": "4ELQ500Fn5Rq"
    },
    {
      "cell_type": "code",
      "metadata": {
        "id": "32b55894"
      },
      "source": [
        "#Make changes to the values below before you click the \"play button\" on the left\n",
        "n_init_a = 3\n",
        "n_final_a = 2 \n",
        "n_init_b = 3\n",
        "n_final_b = 1\n",
        "\n",
        "print('transition a goes from from n=', n_init_a, 'to n =', n_final_a)\n",
        "print('transition b goes from from n=', n_init_b, 'to n =', n_final_b)"
      ],
      "id": "32b55894",
      "execution_count": null,
      "outputs": []
    },
    {
      "cell_type": "code",
      "metadata": {
        "id": "c3215a44"
      },
      "source": [
        "# Calculate change in energy when you go from n_init to n_final (for any values of n defined above)\n",
        "# Execute this cell with shift-enter or by left-clicking the \"play button\" to the left.\n",
        "\n",
        "e_lv_i_a = e_lv[n_init_a-1]\n",
        "e_lv_i_b = e_lv[n_init_b-1]\n",
        "e_lv_f_a = e_lv[n_final_a-1]\n",
        "e_lv_f_b = e_lv[n_final_b-1]\n",
        "\n",
        "delta_e_a = e_lv_f_a - e_lv_i_a\n",
        "delta_e_b = e_lv_f_b - e_lv_i_b\n",
        "\n",
        "# Comparison of frequencies in s^-1 \n",
        "d_e_freq_a = abs(delta_e_a / h)\n",
        "d_e_freq_b = abs(delta_e_b / h)\n",
        "sci_freq_a = \"{:e}\".format(d_e_freq_a)\n",
        "sci_freq_b = \"{:e}\".format(d_e_freq_b)\n",
        "\n",
        "# Comparison of wavelengths in nm\n",
        "c= 299792458 #Speed of Light\n",
        "d_e_wave_a = c / d_e_freq_a\n",
        "d_e_wave_nm_a = d_e_wave_a * 10**9\n",
        "d_e_wave_b = c / d_e_freq_b\n",
        "d_e_wave_nm_b = d_e_wave_b * 10**9\n",
        "\n",
        "# Make the table with values for Joules, Hertz and n-final1, n_final2, n_init\n",
        "column1 = [n_init_a, n_final_a, delta_e_a, sci_freq_a, d_e_wave_nm_a]\n",
        "column2 = [n_init_b, n_final_b, delta_e_b, sci_freq_b, d_e_wave_nm_b]\n",
        "\n",
        "#Plots and saves the table (where does it save to? and what is the name of the file?)\n",
        "fig, ax =plt.subplots(1,1)\n",
        "data=[column1,column2]\n",
        "column_labels=[\"n_init\", \"n_final\", \"Energy (J)\", \"Frequency (Hz)\", \"Wavelength (nm)\" ]\n",
        "df=pd.DataFrame(data,columns=column_labels)\n",
        "ax.axis('tight')\n",
        "ax.axis('off')\n",
        "# Define ax.table as an object called table. Then, you can set the font and the scale of the table object with the two lines of code below.\n",
        "table = ax.table(cellText=df.values,\n",
        "        colLabels=df.columns,\n",
        "        rowLabels=[\"transition a\", \"transition b\"],\n",
        "        loc=\"center\")\n",
        "table.set_fontsize(30)\n",
        "table.scale(5, 5)\n",
        "plt.show()\n",
        "\n",
        "#Plots Energy Diagram\n",
        "fig = plt.figure()\n",
        "inc = 0\n",
        "\n",
        "#Defines the data and plots the large graph\n",
        "for inc, big_int in enumerate(reversed(e_lv)):\n",
        "    x_big = range(0,n_max)\n",
        "    y_big = [big_int]*n_max\n",
        "    plt.plot(x_big,y_big, color = colors[inc+1])\n",
        "    inc+=1\n",
        "    plt.ylabel('Energy (Joules)') \n",
        "    plt.xticks([])\n",
        "    plt.arrow(1, e_lv_i_a, 0, delta_e_a, width = 0) #Adds the arrow to the graph if n<=5\n",
        "    plt.arrow(2, e_lv_i_b, 0, delta_e_b, width = 0)\n",
        "    plt.title(\"Hydrogen Energy Levels\")\n",
        "\n",
        "#Generates a legend for the plot\n",
        "ax = plt.plot(x_big, y_big)\n",
        "plt.xlim(0, 9)\n",
        "plt.ylim(-2.5e-18, 1e-20)\n",
        "plt.legend(range(n_max, 0, -1), loc=\"center right\", bbox_to_anchor = (1.2,.5), title = \"n=\")"
      ],
      "id": "c3215a44",
      "execution_count": null,
      "outputs": []
    },
    {
      "cell_type": "markdown",
      "metadata": {
        "id": "Nw4zBvq7WQMu"
      },
      "source": [
        "# Extensions of this Python exercise:\n",
        "\n",
        "1. In order for the excitation to happen, the photon's energy must be equal to or greater than the gap between the two energy levels in the transition. Based on what you have learned about the wavelength of light in the n=3 to n=2 and n=3 to n=1, answer the following two questions: \n",
        "<p>a. Can a photon with a wavelength of 656 nm cause an electron to go from the ground state (that is n=1) to n=3? Why or why not?\n",
        "<p>b. What is the longest wavelength that can cause an excitation from the ground state to n=3?\n",
        "2. On your own (that is by hand and without the help of the Python program), calculate the energy (in Joules) associated with emission of an electron in hydrogen from n=2 to n=1. Add this energy to the energy gap associated with the n=3 to n=2 transition (you can read this energy from the table Python generated). How does the final value you calculated compare with the energy of a n=3 to n=1 transition?\n",
        "3. Now, do the same exact thing for wavelengths. That is, calculate the wavelength (in nm) of a transition from n=2 to n=1 by hand. Add this value to the wavelength of a transition from n=3 to n=2. How does your answer compare with the wavelength of a n=3 to n=1 transition?\n",
        "\n",
        "# We would like your feedback about this activity:\n",
        "Upon completing this exercise, please consider giving us some feedback. The survey is voluntary and will not impact your grade: https://scu.az1.qualtrics.com/jfe/form/SV_4IKdyEdY670Ntau"
      ],
      "id": "Nw4zBvq7WQMu"
    },
    {
      "cell_type": "code",
      "metadata": {
        "id": "wkf4o_8Px1CV"
      },
      "source": [
        ""
      ],
      "id": "wkf4o_8Px1CV",
      "execution_count": null,
      "outputs": []
    }
  ]
}